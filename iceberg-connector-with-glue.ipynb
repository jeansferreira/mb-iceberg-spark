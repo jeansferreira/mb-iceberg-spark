{
  "cells": [
    {
      "cell_type": "markdown",
      "metadata": {
        "deletable": false,
        "editable": false,
        "pycharm": {
          "name": "#%% md\n"
        },
        "tags": []
      },
      "source": [
        "# Use the AWS Glue connector to read and write Apache Iceberg tables with ACID transactions and perform time travel\n",
        "This notebook is relevant to the AWS Blog post; [Use the AWS Glue connector to read and write Apache Iceberg tables with ACID transactions and perform time travel](#)."
      ]
    },
    {
      "cell_type": "markdown",
      "metadata": {
        "pycharm": {
          "name": "#%% md\n"
        }
      },
      "source": [
        "## Start an AWS Glue Studio notebook for Iceberg\n",
        "We start an AWS Glue Studio notebook and load the configuration which you specified in the CloudFormation.\n",
        "\n",
        "### Set up the Iceberg configuration\n",
        "Set your connection name that you created in the previous section.\n",
        "* `%connections` - type your connection bane that you created in **Setting up the Apache Iceberg connector and creating the connection**"
      ]
    },
    {
      "cell_type": "code",
      "execution_count": null,
      "metadata": {
        "deletable": false,
        "pycharm": {
          "name": "#%%\n"
        },
        "tags": [],
        "trusted": true,
        "vscode": {
          "languageId": "python"
        }
      },
      "outputs": [],
      "source": [
        "# Execute this cell to configure and start your notebook.\n",
        "%idle_timeout 60\n",
        "%connections # set you Glue connection name (e.g. iceberg-connection)\n",
        "%glue_version 3.0"
      ]
    },
    {
      "cell_type": "code",
      "execution_count": null,
      "metadata": {
        "pycharm": {
          "name": "#%%\n"
        },
        "trusted": true,
        "vscode": {
          "languageId": "python"
        }
      },
      "outputs": [],
      "source": [
        "# Stop firstly initialized SparkSession and SparkContext to re-create them with Iceberg configuration.\n",
        "spark.stop()\n",
        "sc.stop()"
      ]
    },
    {
      "cell_type": "code",
      "execution_count": null,
      "metadata": {
        "pycharm": {
          "name": "#%%\n"
        },
        "trusted": true,
        "vscode": {
          "languageId": "python"
        }
      },
      "outputs": [],
      "source": [
        "# Import CFn inputs by boto3. Replace `<YOUR_BUCKET_NAME>` with your S3 bucket name.\n",
        "import json\n",
        "import boto3\n",
        "\n",
        "S3_BUCKET = '<YOUR_BUCKET_NAME>'\n",
        "\n",
        "s3r = boto3.resource('s3')\n",
        "user_config = json.loads(s3r.Object(bucket_name=S3_BUCKET, key='config/user_config.json').get()['Body'].read())\n",
        "\n",
        "print(f'Your CloudFormation inputs: {user_config}')"
      ]
    },
    {
      "cell_type": "markdown",
      "metadata": {
        "pycharm": {
          "name": "#%% md\n"
        }
      },
      "source": [
        "### Initialize the job with Iceberg configurations\n",
        "We initialize a Glue job with Iceberg configurations. Before initializing the job, we specify a Spark Catalog name, and load an Iceberg warehouse path and a DynamoDB table name from `user_config` which you set in the previous section. Then, we initialize the job by passing necessary configuration to use Iceberg on Glue. You can see the details about each configuration in **Appendix: Spark configurations to use Iceberg on AWS Glue**."
      ]
    },
    {
      "cell_type": "code",
      "execution_count": null,
      "metadata": {
        "pycharm": {
          "name": "#%%\n"
        },
        "trusted": true,
        "vscode": {
          "languageId": "python"
        }
      },
      "outputs": [],
      "source": [
        "# Set your specified resources\n",
        "CATALOG = 'glue_catalog'\n",
        "WAREHOUSE_PATH = user_config['warehouse_path']\n",
        "DYNAMODB_TABLE = user_config['dynamodb_table']"
      ]
    },
    {
      "cell_type": "code",
      "execution_count": null,
      "metadata": {
        "pycharm": {
          "name": "#%%\n"
        },
        "trusted": true,
        "vscode": {
          "languageId": "python"
        }
      },
      "outputs": [],
      "source": [
        "# Initialize SparkSession\n",
        "from pyspark.sql import SparkSession\n",
        "spark = SparkSession.builder \\\n",
        "    .config(f'spark.sql.catalog.{CATALOG}', 'org.apache.iceberg.spark.SparkCatalog') \\\n",
        "    .config(f'spark.sql.catalog.{CATALOG}.warehouse', f'{WAREHOUSE_PATH}') \\\n",
        "    .config(f'spark.sql.catalog.{CATALOG}.catalog-impl', 'org.apache.iceberg.aws.glue.GlueCatalog') \\\n",
        "    .config(f'spark.sql.catalog.{CATALOG}.io-impl', 'org.apache.iceberg.aws.s3.S3FileIO') \\\n",
        "    .config(f'spark.sql.catalog.{CATALOG}.lock-impl', 'org.apache.iceberg.aws.glue.DynamoLockManager') \\\n",
        "    .config(f'spark.sql.catalog.{CATALOG}.lock.table', f'{DYNAMODB_TABLE}') \\\n",
        "    .config(f'spark.sql.extensions','org.apache.iceberg.spark.extensions.IcebergSparkSessionExtensions') \\\n",
        "    .getOrCreate()"
      ]
    },
    {
      "cell_type": "code",
      "execution_count": null,
      "metadata": {
        "pycharm": {
          "name": "#%%\n"
        },
        "trusted": true,
        "vscode": {
          "languageId": "python"
        }
      },
      "outputs": [],
      "source": [
        "# Initialize SparkContext and GlueContext\n",
        "from awsglue.context import GlueContext\n",
        "\n",
        "sc = spark.sparkContext\n",
        "gc = GlueContext(sc)"
      ]
    },
    {
      "cell_type": "markdown",
      "metadata": {},
      "source": [
        "## 1. Create Iceberg tables of customer reviews and BI reports\n",
        "We create `acr_iceberg` and `acr_iceberg_report` Iceberg tables. Then, we run a `SELECT` query to check table records."
      ]
    },
    {
      "cell_type": "markdown",
      "metadata": {},
      "source": [
        "### Create the `acr_iceberg` table for customer reviews\n",
        "We create an Iceberg table (names `acr_iceberg`) for your specified database in the Glue Data Catalog. When creating the table, Iceberg also writes the actual data in your specified S3 bucket. Note that the script loads partial datasets to avoids taking a lot of time to data loading."
      ]
    },
    {
      "cell_type": "code",
      "execution_count": null,
      "metadata": {
        "pycharm": {
          "name": "#%%\n"
        },
        "trusted": true,
        "vscode": {
          "languageId": "python"
        }
      },
      "outputs": [],
      "source": [
        "DATABASE = user_config['database_name']\n",
        "TABLE = user_config['table_name']\n",
        "\n",
        "print(f'Database: {DATABASE}, Table: {TABLE}.')"
      ]
    },
    {
      "cell_type": "code",
      "execution_count": null,
      "metadata": {
        "pycharm": {
          "name": "#%%\n"
        },
        "trusted": true,
        "vscode": {
          "languageId": "python"
        }
      },
      "outputs": [],
      "source": [
        "INPUT_BASE_PATH = 's3://amazon-reviews-pds/parquet'\n",
        "PRODUCT_CATEGORIES = ['Apparel', 'Camera', 'PC', 'Software', 'Video']\n",
        "INPUT_CATEGORIES = [f'{INPUT_BASE_PATH}/product_category={category}/' for category in PRODUCT_CATEGORIES]\n",
        "\n",
        "# Loading the dataset and creating an Iceberg table. This will take about 5 miniutes.\n",
        "spark.read \\\n",
        "    .option('basePath', INPUT_BASE_PATH) \\\n",
        "    .parquet(*INPUT_CATEGORIES) \\\n",
        "    .writeTo(f'{CATALOG}.{DATABASE}.{TABLE}') \\\n",
        "    .tableProperty('format-version', '2') \\\n",
        "    .create()"
      ]
    },
    {
      "cell_type": "markdown",
      "metadata": {},
      "source": [
        "### Create the `acr_iceberg_report` Iceberg table for BI reports\n",
        "We also create `acr_iceberg_report` as an Iceberg table for your specified database in Glue Data Catalog by running the following SQL expression. This table is used as a BI report for customer review analysis. We query this table in step 4."
      ]
    },
    {
      "cell_type": "markdown",
      "metadata": {},
      "source": [
        "<div class=\"alert alert-block alert-info\"><b>NOTE: If you specify a custom database name, replace <code>iceberg_blog_default</code> with the database name in each query hereafter.</b> "
      ]
    },
    {
      "cell_type": "code",
      "execution_count": null,
      "metadata": {
        "trusted": true,
        "vscode": {
          "languageId": "python"
        }
      },
      "outputs": [],
      "source": [
        "%%sql\n",
        "CREATE TABLE glue_catalog.iceberg_blog_default.acr_iceberg_report \\\n",
        "USING iceberg \\\n",
        "AS SELECT comment_count, avg_star, product_category FROM ( \\\n",
        "    VALUES \\\n",
        "        (1240, 4.20729367860598, \\'Camera\\'), \\\n",
        "        (95, 4.80167540490342, \\'Industrial_Supplies\\'), \\\n",
        "        (663, 3.80123467540571, \\'PC\\') \\\n",
        ") AS t(comment_count, avg_star, product_category)"
      ]
    },
    {
      "cell_type": "markdown",
      "metadata": {
        "pycharm": {
          "name": "#%% md\n"
        }
      },
      "source": [
        "### Determine the average star rating for each product category by querying the Iceberg table\n",
        "You can see the Iceberg table records by using a SELECT statement. In this section we query the `acr_iceberg` table. In particular, we see the aggregated number of customer comments and mean star rating for each `product_category`."
      ]
    },
    {
      "cell_type": "code",
      "execution_count": null,
      "metadata": {
        "pycharm": {
          "name": "#%%\n"
        },
        "trusted": true,
        "vscode": {
          "languageId": "python"
        }
      },
      "outputs": [],
      "source": [
        "%%sql\n",
        "SELECT \\\n",
        "    count(*) as comment_count, \\\n",
        "    avg(star_rating) as avg_star, \\\n",
        "    product_category \\\n",
        "FROM glue_catalog.iceberg_blog_default.acr_iceberg \\\n",
        "GROUP BY product_category \\\n",
        "ORDER BY product_category, avg_star ASC"
      ]
    },
    {
      "cell_type": "markdown",
      "metadata": {
        "pycharm": {
          "name": "#%% md\n"
        }
      },
      "source": [
        "## 2. Add customer reviews in the Iceberg table\n",
        "We add the following 5 additional customer comments to the `acr_iceberg`. We perform an `INSERT` query for the Iceberg table to add the comments. The product category for these comments are `Industrial Supplies`."
      ]
    },
    {
      "cell_type": "markdown",
      "metadata": {
        "pycharm": {
          "name": "#%% md\n"
        }
      },
      "source": [
        "Run the following cell and generate additional customer reviews. This table is registered as a temporary table with its name `additional_reviews`."
      ]
    },
    {
      "cell_type": "code",
      "execution_count": null,
      "metadata": {
        "pycharm": {
          "name": "#%%\n"
        },
        "trusted": true,
        "vscode": {
          "languageId": "python"
        }
      },
      "outputs": [],
      "source": [
        "# Generate additional records\n",
        "new_reviews = [\n",
        "    {'marketplace':'US','customer_id':12345689,'review_id':'ISB35E4556F144','product_id':'I00EDBY7X8','product_parent':989172340,'product_title':'plastic containers','star_rating':5,'helpful_votes':0,'total_votes':0,'vine':'N','verified_purchase':'Y','review_headline':'Five Stars','review_body':'Great product!','review_date':'2022-02-01','year':2022,'product_category':'Industrial_Supplies'},\n",
        "    {'marketplace':'US','customer_id':78901234,'review_id':'IS4392CD4C3C4','product_id':'I00D7JFOPC','product_parent':952000001,'product_title':'battery tester','star_rating':3,'helpful_votes':0,'total_votes':0,'vine':'N','verified_purchase':'Y','review_headline':'nice one, but it broke some days later','review_body':'nope','review_date':'2022-02-01','year':2022,'product_category':'Industrial_Supplies'},\n",
        "    {'marketplace':'US','customer_id':12345123,'review_id':'IS97B103F8B24C','product_id':'I002LHA74O','product_parent':818426953,'product_title':'spray bottle','star_rating':2,'helpful_votes':1,'total_votes':1,'vine':'N','verified_purchase':'N','review_headline':'Two Stars','review_body':'the bottle isn\\'t as big as pictured.','review_date':'2022-02-01','year':2022,'product_category':'Industrial_Supplies'},\n",
        "    {'marketplace':'US','customer_id':23000093,'review_id':'ISAB4268D46F3X','product_id':'I00ARPLCGY','product_parent':562945918,'product_title':'3d printer','star_rating':5,'helpful_votes':3,'total_votes':3,'vine':'N','verified_purchase':'Y','review_headline':'Super great','review_body':'very useful','review_date':'2022-02-01','year':2022,'product_category':'Industrial_Supplies'},\n",
        "    {'marketplace':'US','customer_id':89874312,'review_id':'ISAB4268137V2Y','product_id':'I80ARDQCY','product_parent':564669018,'product_title':'circuit board','star_rating':4,'helpful_votes':0,'total_votes':0,'vine':'Y','verified_purchase':'Y','review_headline':'Great, but a little bit expensive','review_body':'you should buy this, but note the price','review_date':'2022-02-01','year':2022,'product_category':'Industrial_Supplies'}\n",
        "]\n",
        "\n",
        "TEMP_TABLE = \"additional_reviews\"\n",
        "\n",
        "# Creating a temporary table based on the additional customer reviews.\n",
        "# The temporary table is only available within the current Spark session, \n",
        "#   and the table is removed after the session ends.\n",
        "from pyspark.sql import Row\n",
        "from pyspark.sql.functions import to_date\n",
        "df = spark.createDataFrame(Row(**review) for review in new_reviews)\n",
        "df.withColumn('review_date', to_date(df.review_date, 'yyyy-MM-dd')) \\\n",
        "    .createOrReplaceTempView(TEMP_TABLE)"
      ]
    },
    {
      "cell_type": "markdown",
      "metadata": {
        "pycharm": {
          "name": "#%% md\n"
        }
      },
      "source": [
        "Then, insert these records into the Iceberg table by running the following cell. "
      ]
    },
    {
      "cell_type": "code",
      "execution_count": null,
      "metadata": {
        "pycharm": {
          "name": "#%%\n"
        },
        "trusted": true,
        "vscode": {
          "languageId": "python"
        }
      },
      "outputs": [],
      "source": [
        "%%sql\n",
        "INSERT INTO glue_catalog.iceberg_blog_default.acr_iceberg SELECT * FROM additional_reviews"
      ]
    },
    {
      "cell_type": "markdown",
      "metadata": {
        "pycharm": {
          "name": "#%% md\n"
        }
      },
      "source": [
        "You can check the inserted records by running the following query."
      ]
    },
    {
      "cell_type": "code",
      "execution_count": null,
      "metadata": {
        "pycharm": {
          "name": "#%%\n"
        },
        "trusted": true,
        "vscode": {
          "languageId": "python"
        }
      },
      "outputs": [],
      "source": [
        "%%sql\n",
        "SELECT \\\n",
        "    count(*) as comment_count, \\\n",
        "    avg(star_rating) as avg_star, \\\n",
        "    product_category \\\n",
        "FROM glue_catalog.iceberg_blog_default.acr_iceberg \\\n",
        "GROUP BY product_category \\\n",
        "ORDER BY product_category, avg_star ASC"
      ]
    },
    {
      "cell_type": "markdown",
      "metadata": {
        "pycharm": {
          "name": "#%% md\n"
        }
      },
      "source": [
        "## 3. Update a customer review in the Iceberg table\n",
        "A customer `78901234` requests the following update of the review whose ID `IS4392CD4C3C4`.\n",
        "* change `star_rating` from `3` to `5`\n",
        "* update the `review_headline` from `nice one, but it broke some days later` to `very good`\n",
        "\n",
        "We update the customer review by using an UPDATE query for the `acr_iceberg` table"
      ]
    },
    {
      "cell_type": "code",
      "execution_count": null,
      "metadata": {
        "pycharm": {
          "name": "#%%\n"
        },
        "trusted": true,
        "vscode": {
          "languageId": "python"
        }
      },
      "outputs": [],
      "source": [
        "%%sql\n",
        "UPDATE glue_catalog.iceberg_blog_default.acr_iceberg \\\n",
        "SET star_rating = 5, review_headline = \\'very good\\' \\\n",
        "WHERE customer_id = \\'78901234\\' AND review_id = \\'IS4392CD4C3C4\\'"
      ]
    },
    {
      "cell_type": "markdown",
      "metadata": {
        "pycharm": {
          "name": "#%% md\n"
        }
      },
      "source": [
        "You can see the updated record by running the following cell."
      ]
    },
    {
      "cell_type": "code",
      "execution_count": null,
      "metadata": {
        "pycharm": {
          "name": "#%%\n"
        },
        "trusted": true,
        "vscode": {
          "languageId": "python"
        }
      },
      "outputs": [],
      "source": [
        "%%sql\n",
        "SELECT \\\n",
        "    customer_id, \\\n",
        "    review_id, \\\n",
        "    star_rating, \\\n",
        "    review_headline \\\n",
        "FROM glue_catalog.iceberg_blog_default.acr_iceberg \\\n",
        "WHERE customer_id = \\'78901234\\' AND review_id = \\'IS4392CD4C3C4\\'"
      ]
    },
    {
      "cell_type": "markdown",
      "metadata": {},
      "source": [
        "You can also see the update on `avg_star` in the record of `Industrial_Supplies` category by running the following cell."
      ]
    },
    {
      "cell_type": "code",
      "execution_count": null,
      "metadata": {
        "trusted": true,
        "vscode": {
          "languageId": "python"
        }
      },
      "outputs": [],
      "source": [
        "%%sql\n",
        "SELECT \\\n",
        "    count(*) as comment_count, \\\n",
        "    avg(star_rating) as avg_star, \\\n",
        "    product_category \\\n",
        "FROM glue_catalog.iceberg_blog_default.acr_iceberg \\\n",
        "GROUP BY product_category \\\n",
        "ORDER BY product_category, avg_star ASC"
      ]
    },
    {
      "cell_type": "markdown",
      "metadata": {
        "pycharm": {
          "name": "#%% md\n"
        }
      },
      "source": [
        "## 4. Reflect changes in the customer reviews table in the BI report table with a MERGE INTO query\n",
        "We reflect the changes in the `acr_iceberg` table into the BI report `acr_iceberg_report` table. To reflect the changes, we run the [MERGE INTO](https://iceberg.apache.org/docs/latest/spark-writes/#merge-into) query that is similar to UPSERT (Update and Insert operation), and combine the two tables based on the condition of the `product_category` column in each table. To complete this, run the following cell."
      ]
    },
    {
      "cell_type": "code",
      "execution_count": null,
      "metadata": {
        "pycharm": {
          "name": "#%%\n"
        },
        "trusted": true,
        "vscode": {
          "languageId": "python"
        }
      },
      "outputs": [],
      "source": [
        "%%sql\n",
        "MERGE INTO glue_catalog.iceberg_blog_default.acr_iceberg_report as t1 \\\n",
        "USING ( \\\n",
        "    SELECT \\\n",
        "        count(*) as comment_count, \\\n",
        "        avg(star_rating) as avg_star, \\\n",
        "        product_category \\\n",
        "    FROM glue_catalog.iceberg_blog_default.acr_iceberg \\\n",
        "    GROUP BY product_category \\\n",
        ") AS t2 \\\n",
        "ON t2.product_category = t1.product_category \\\n",
        "WHEN \\\n",
        "    MATCHED THEN UPDATE SET t1.comment_count = t1.comment_count + t2.comment_count, t1.avg_star = (t1.avg_star + t2.avg_star)/2 \\\n",
        "WHEN \\\n",
        "    NOT MATCHED THEN INSERT *"
      ]
    },
    {
      "cell_type": "markdown",
      "metadata": {
        "pycharm": {
          "name": "#%% md\n"
        }
      },
      "source": [
        "Then, you can see the updated report table by `MERGE INTO` query by running the following cell."
      ]
    },
    {
      "cell_type": "code",
      "execution_count": null,
      "metadata": {
        "pycharm": {
          "name": "#%%\n"
        },
        "trusted": true,
        "vscode": {
          "languageId": "python"
        }
      },
      "outputs": [],
      "source": [
        "%%sql\n",
        "SELECT * FROM glue_catalog.iceberg_blog_default.acr_iceberg_report \\\n",
        "ORDER BY product_category, avg_star ASC"
      ]
    },
    {
      "cell_type": "markdown",
      "metadata": {
        "pycharm": {
          "name": "#%% md\n"
        }
      },
      "source": [
        "## 5. Roll back the Iceberg tables and reflect changes in the BI report table\n",
        "We assume that the customer wants to revert updating the review which we did in the **Step 3. Updating a customer review in the Iceberg table** section. \n",
        "To complete the customer’s reverting request, we do the following 3 steps:\n",
        "1. Checking the history of table changes of `acr_iceberg` and `acr_iceberg_report` to get each table snapshot\n",
        "2. Rollback of `acr_iceberg` to the version of when we inserted records in **Step 2. Adding customer reviews into the Iceberg table by INSERT query** section, and also rollback of `acr_iceberg_reporttable` to the initial version to reflect the customer review update\n",
        "3. Then merging the `acr_iceberg` table with the `acr_iceberg_report` table"
      ]
    },
    {
      "cell_type": "markdown",
      "metadata": {
        "pycharm": {
          "name": "#%% md\n"
        }
      },
      "source": [
        "### Get the metadata of each report table\n",
        "We can get metadata of Iceberg tables by using [inspecing tables query](https://iceberg.apache.org/docs/latest/spark-queries/#inspecting-tables). "
      ]
    },
    {
      "cell_type": "markdown",
      "metadata": {},
      "source": [
        "You can see the `acr_iceberg` table metadata by running the following cell."
      ]
    },
    {
      "cell_type": "code",
      "execution_count": null,
      "metadata": {
        "trusted": true,
        "vscode": {
          "languageId": "python"
        }
      },
      "outputs": [],
      "source": [
        "%%sql\n",
        "SELECT \\\n",
        "    h.made_current_at, \\\n",
        "    h.snapshot_id, \\\n",
        "    s.operation \\\n",
        "FROM glue_catalog.iceberg_blog_default.acr_iceberg.history h \\\n",
        "JOIN glue_catalog.iceberg_blog_default.acr_iceberg.snapshots s \\\n",
        "ON h.snapshot_id = s.snapshot_id \\\n",
        "ORDER BY made_current_at DESC"
      ]
    },
    {
      "cell_type": "markdown",
      "metadata": {},
      "source": [
        "You can see the `acr_iceberg_report` table metadata by running the following cell."
      ]
    },
    {
      "cell_type": "code",
      "execution_count": null,
      "metadata": {
        "trusted": true,
        "vscode": {
          "languageId": "python"
        }
      },
      "outputs": [],
      "source": [
        "%%sql\n",
        "SELECT \\\n",
        "    h.made_current_at, \\\n",
        "    h.snapshot_id, \\\n",
        "    s.operation \\\n",
        "FROM glue_catalog.iceberg_blog_default.acr_iceberg_report.history h \\\n",
        "JOIN glue_catalog.iceberg_blog_default.acr_iceberg_report.snapshots s \\\n",
        "ON h.snapshot_id = s.snapshot_id \\\n",
        "ORDER BY made_current_at DESC"
      ]
    },
    {
      "cell_type": "markdown",
      "metadata": {
        "pycharm": {
          "name": "#%% md\n"
        }
      },
      "source": [
        "### Roll back the `acr_iceberg` and `acr_iceberg_report` tables\n",
        "Based on snapshot IDs in `acr_iceberg` and `acr_iceberg_report` tables, we roll back each table to a specific table version. To run [rollback queries](https://iceberg.apache.org/docs/latest/spark-procedures/) for two tables, run the following cells."
      ]
    },
    {
      "cell_type": "markdown",
      "metadata": {},
      "source": [
        "For the `acr_iceberg` table , run the following cell and revert the table to the snapshot_id with the younger `append` in the operation column (this state is when inserting records happened)."
      ]
    },
    {
      "cell_type": "code",
      "execution_count": null,
      "metadata": {
        "trusted": true,
        "vscode": {
          "languageId": "python"
        }
      },
      "outputs": [],
      "source": [
        "%%sql\n",
        "CALL glue_catalog.system.rollback_to_snapshot(\\'iceberg_blog_default.acr_iceberg\\', <Type snapshot_id in acr_iceberg table>)"
      ]
    },
    {
      "cell_type": "markdown",
      "metadata": {},
      "source": [
        "For the `acr_iceberg_report`table, run the following cell and revert the table to the oldest snapshot_id (this is the initial state of this report table)"
      ]
    },
    {
      "cell_type": "code",
      "execution_count": null,
      "metadata": {
        "pycharm": {
          "name": "#%%\n"
        },
        "trusted": true,
        "vscode": {
          "languageId": "python"
        }
      },
      "outputs": [],
      "source": [
        "%%sql\n",
        "CALL glue_catalog.system.rollback_to_snapshot(\\'iceberg_blog_default.acr_iceberg_report\\', <Type snapshot_id in acr_iceberg table>)"
      ]
    },
    {
      "cell_type": "markdown",
      "metadata": {
        "pycharm": {
          "name": "#%% md\n"
        }
      },
      "source": [
        "### Reflect changes in `acr_iceberg` into `acr_iceberg_report` again\n",
        "After the reversion of the `acr_iceberg` and `acr_iceberg_repor` tables you can combine them to reflect changes in the `acr_iceberg` table into `acr_iceberg_report` table by running the following cell."
      ]
    },
    {
      "cell_type": "code",
      "execution_count": null,
      "metadata": {
        "trusted": true,
        "vscode": {
          "languageId": "python"
        }
      },
      "outputs": [],
      "source": [
        "%%sql\n",
        "MERGE INTO glue_catalog.iceberg_blog_default.acr_iceberg_report as t1 \\\n",
        "USING ( \\\n",
        "    SELECT \\\n",
        "        count(*) as comment_count, \\\n",
        "        avg(star_rating) as avg_star, \\\n",
        "        product_category \\\n",
        "    FROM glue_catalog.iceberg_blog_default.acr_iceberg \\\n",
        "    GROUP BY product_category \\\n",
        ") AS t2 \\\n",
        "ON t2.product_category = t1.product_category \\\n",
        "WHEN \\\n",
        "    MATCHED THEN UPDATE SET t1.comment_count = t1.comment_count + t2.comment_count, t1.avg_star = (t1.avg_star + t2.avg_star)/2 \\\n",
        "WHEN \\\n",
        "    NOT MATCHED THEN INSERT *"
      ]
    },
    {
      "cell_type": "markdown",
      "metadata": {
        "pycharm": {
          "name": "#%% md\n"
        }
      },
      "source": [
        "Then, check the updated report table by running the following cell. You can see the updated `avg_star` value in `Industrial_Supplies` as follows:\n",
        "* (the previous `avg_star` shown in **step 4**) `4.50083770245171` \n",
        "* (the updated `avg_star`) `4.30083770245171`"
      ]
    },
    {
      "cell_type": "code",
      "execution_count": null,
      "metadata": {
        "pycharm": {
          "name": "#%%\n"
        },
        "trusted": true,
        "vscode": {
          "languageId": "python"
        }
      },
      "outputs": [],
      "source": [
        "%%sql\n",
        "SELECT * FROM glue_catalog.iceberg_blog_default.acr_iceberg_report \\\n",
        "ORDER BY product_category, avg_star ASC"
      ]
    }
  ],
  "metadata": {
    "interpreter": {
      "hash": "0adcc2737ebf6a4a119f135174df96668767fca1ef1112612db5ecadf2b6d608"
    },
    "kernelspec": {
      "display_name": "Glue PySpark",
      "language": "python",
      "name": "glue_pyspark"
    },
    "language_info": {
      "codemirror_mode": {
        "name": "python",
        "version": 3
      },
      "file_extension": ".py",
      "mimetype": "text/x-python",
      "name": "Python_Glue_Session",
      "pygments_lexer": "python3"
    }
  },
  "nbformat": 4,
  "nbformat_minor": 4
}
